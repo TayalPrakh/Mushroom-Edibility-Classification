{
 "cells": [
  {
   "cell_type": "markdown",
   "id": "be1a4c63",
   "metadata": {},
   "source": [
    "# Mushroom Edibility Classification"
   ]
  },
  {
   "cell_type": "markdown",
   "id": "dc742d97",
   "metadata": {},
   "source": [
    "### Developed by Prakhar Tayal\n"
   ]
  },
  {
   "cell_type": "markdown",
   "id": "4f1d9991",
   "metadata": {},
   "source": [
    "The aim of this project is to use analysis and make a model which could predict whether a given mushroom is edible or poisonous based on it's appearance,shape and other similar features.\n"
   ]
  },
  {
   "cell_type": "markdown",
   "id": "d7f680de",
   "metadata": {},
   "source": [
    "Description of the dataset and the attributes is added at the bottom"
   ]
  },
  {
   "cell_type": "code",
   "execution_count": 38,
   "id": "620616a0",
   "metadata": {},
   "outputs": [],
   "source": [
    "import numpy as np\n",
    "import pandas as pd\n",
    "import seaborn as sns\n",
    "import matplotlib.pyplot as plt\n",
    "from sklearn.preprocessing import OneHotEncoder\n",
    "from sklearn.model_selection import train_test_split\n",
    "from sklearn.linear_model import LogisticRegression\n",
    "from sklearn.metrics import confusion_matrix,ConfusionMatrixDisplay"
   ]
  },
  {
   "cell_type": "code",
   "execution_count": 2,
   "id": "a51085d6",
   "metadata": {},
   "outputs": [],
   "source": [
    "mushrooms = pd.read_csv('mushrooms.csv')"
   ]
  },
  {
   "cell_type": "code",
   "execution_count": 62,
   "id": "eecad741",
   "metadata": {},
   "outputs": [
    {
     "data": {
      "text/plain": [
       "(8124, 23)"
      ]
     },
     "execution_count": 62,
     "metadata": {},
     "output_type": "execute_result"
    }
   ],
   "source": [
    "mushrooms.shape"
   ]
  },
  {
   "cell_type": "markdown",
   "id": "1da7b0e3",
   "metadata": {},
   "source": [
    "I want to check that there is no imbalance in the target variable.Incase there are more observations for a certain outcome it could skew the model into predicting one outcome more than the other."
   ]
  },
  {
   "cell_type": "code",
   "execution_count": 61,
   "id": "bf23b2c5",
   "metadata": {},
   "outputs": [
    {
     "data": {
      "image/png": "[encoded data removed]",
      "text/plain": [
       "<Figure size 640x480 with 1 Axes>"
      ]
     },
     "metadata": {},
     "output_type": "display_data"
    }
   ],
   "source": [
    "plt.title('Total Observations')\n",
    "sns.histplot(data = mushrooms['class'])\n",
    "plt.show()"
   ]
  },
  {
   "cell_type": "markdown",
   "id": "3748f8e2",
   "metadata": {},
   "source": [
    "There is no significant imbalance between the two observations for the Target variable. So we can proceed as usual without having to adress this "
   ]
  },
  {
   "cell_type": "markdown",
   "id": "91ba7d02",
   "metadata": {},
   "source": [
    "Since this data only contains Categorical features, I had to encode the features."
   ]
  },
  {
   "cell_type": "code",
   "execution_count": 6,
   "id": "3a231870",
   "metadata": {},
   "outputs": [],
   "source": [
    "dummy_df = pd.get_dummies(mushrooms, columns = mushrooms.columns, drop_first='True')\n"
   ]
  },
  {
   "cell_type": "markdown",
   "id": "76429af3",
   "metadata": {},
   "source": [
    "Verifying that labels are created appropriately."
   ]
  },
  {
   "cell_type": "code",
   "execution_count": 7,
   "id": "0a2587fa",
   "metadata": {},
   "outputs": [
    {
     "data": {
      "text/html": [
       "<div>\n",
       "<style scoped>\n",
       "    .dataframe tbody tr th:only-of-type {\n",
       "        vertical-align: middle;\n",
       "    }\n",
       "\n",
       "    .dataframe tbody tr th {\n",
       "        vertical-align: top;\n",
       "    }\n",
       "\n",
       "    .dataframe thead th {\n",
       "        text-align: right;\n",
       "    }\n",
       "</style>\n",
       "<table border=\"1\" class=\"dataframe\">\n",
       "  <thead>\n",
       "    <tr style=\"text-align: right;\">\n",
       "      <th></th>\n",
       "      <th>class_p</th>\n",
       "      <th>cap-shape_c</th>\n",
       "      <th>cap-shape_f</th>\n",
       "      <th>cap-shape_k</th>\n",
       "      <th>cap-shape_s</th>\n",
       "      <th>cap-shape_x</th>\n",
       "      <th>cap-surface_g</th>\n",
       "      <th>cap-surface_s</th>\n",
       "      <th>cap-surface_y</th>\n",
       "      <th>cap-color_c</th>\n",
       "      <th>...</th>\n",
       "      <th>population_n</th>\n",
       "      <th>population_s</th>\n",
       "      <th>population_v</th>\n",
       "      <th>population_y</th>\n",
       "      <th>habitat_g</th>\n",
       "      <th>habitat_l</th>\n",
       "      <th>habitat_m</th>\n",
       "      <th>habitat_p</th>\n",
       "      <th>habitat_u</th>\n",
       "      <th>habitat_w</th>\n",
       "    </tr>\n",
       "  </thead>\n",
       "  <tbody>\n",
       "    <tr>\n",
       "      <th>0</th>\n",
       "      <td>1</td>\n",
       "      <td>0</td>\n",
       "      <td>0</td>\n",
       "      <td>0</td>\n",
       "      <td>0</td>\n",
       "      <td>1</td>\n",
       "      <td>0</td>\n",
       "      <td>1</td>\n",
       "      <td>0</td>\n",
       "      <td>0</td>\n",
       "      <td>...</td>\n",
       "      <td>0</td>\n",
       "      <td>1</td>\n",
       "      <td>0</td>\n",
       "      <td>0</td>\n",
       "      <td>0</td>\n",
       "      <td>0</td>\n",
       "      <td>0</td>\n",
       "      <td>0</td>\n",
       "      <td>1</td>\n",
       "      <td>0</td>\n",
       "    </tr>\n",
       "    <tr>\n",
       "      <th>1</th>\n",
       "      <td>0</td>\n",
       "      <td>0</td>\n",
       "      <td>0</td>\n",
       "      <td>0</td>\n",
       "      <td>0</td>\n",
       "      <td>1</td>\n",
       "      <td>0</td>\n",
       "      <td>1</td>\n",
       "      <td>0</td>\n",
       "      <td>0</td>\n",
       "      <td>...</td>\n",
       "      <td>1</td>\n",
       "      <td>0</td>\n",
       "      <td>0</td>\n",
       "      <td>0</td>\n",
       "      <td>1</td>\n",
       "      <td>0</td>\n",
       "      <td>0</td>\n",
       "      <td>0</td>\n",
       "      <td>0</td>\n",
       "      <td>0</td>\n",
       "    </tr>\n",
       "    <tr>\n",
       "      <th>2</th>\n",
       "      <td>0</td>\n",
       "      <td>0</td>\n",
       "      <td>0</td>\n",
       "      <td>0</td>\n",
       "      <td>0</td>\n",
       "      <td>0</td>\n",
       "      <td>0</td>\n",
       "      <td>1</td>\n",
       "      <td>0</td>\n",
       "      <td>0</td>\n",
       "      <td>...</td>\n",
       "      <td>1</td>\n",
       "      <td>0</td>\n",
       "      <td>0</td>\n",
       "      <td>0</td>\n",
       "      <td>0</td>\n",
       "      <td>0</td>\n",
       "      <td>1</td>\n",
       "      <td>0</td>\n",
       "      <td>0</td>\n",
       "      <td>0</td>\n",
       "    </tr>\n",
       "    <tr>\n",
       "      <th>3</th>\n",
       "      <td>1</td>\n",
       "      <td>0</td>\n",
       "      <td>0</td>\n",
       "      <td>0</td>\n",
       "      <td>0</td>\n",
       "      <td>1</td>\n",
       "      <td>0</td>\n",
       "      <td>0</td>\n",
       "      <td>1</td>\n",
       "      <td>0</td>\n",
       "      <td>...</td>\n",
       "      <td>0</td>\n",
       "      <td>1</td>\n",
       "      <td>0</td>\n",
       "      <td>0</td>\n",
       "      <td>0</td>\n",
       "      <td>0</td>\n",
       "      <td>0</td>\n",
       "      <td>0</td>\n",
       "      <td>1</td>\n",
       "      <td>0</td>\n",
       "    </tr>\n",
       "    <tr>\n",
       "      <th>4</th>\n",
       "      <td>0</td>\n",
       "      <td>0</td>\n",
       "      <td>0</td>\n",
       "      <td>0</td>\n",
       "      <td>0</td>\n",
       "      <td>1</td>\n",
       "      <td>0</td>\n",
       "      <td>1</td>\n",
       "      <td>0</td>\n",
       "      <td>0</td>\n",
       "      <td>...</td>\n",
       "      <td>0</td>\n",
       "      <td>0</td>\n",
       "      <td>0</td>\n",
       "      <td>0</td>\n",
       "      <td>1</td>\n",
       "      <td>0</td>\n",
       "      <td>0</td>\n",
       "      <td>0</td>\n",
       "      <td>0</td>\n",
       "      <td>0</td>\n",
       "    </tr>\n",
       "  </tbody>\n",
       "</table>\n",
       "<p>5 rows × 96 columns</p>\n",
       "</div>"
      ],
      "text/plain": [
       "   class_p  cap-shape_c  cap-shape_f  cap-shape_k  cap-shape_s  cap-shape_x  \\\n",
       "0        1            0            0            0            0            1   \n",
       "1        0            0            0            0            0            1   \n",
       "2        0            0            0            0            0            0   \n",
       "3        1            0            0            0            0            1   \n",
       "4        0            0            0            0            0            1   \n",
       "\n",
       "   cap-surface_g  cap-surface_s  cap-surface_y  cap-color_c  ...  \\\n",
       "0              0              1              0            0  ...   \n",
       "1              0              1              0            0  ...   \n",
       "2              0              1              0            0  ...   \n",
       "3              0              0              1            0  ...   \n",
       "4              0              1              0            0  ...   \n",
       "\n",
       "   population_n  population_s  population_v  population_y  habitat_g  \\\n",
       "0             0             1             0             0          0   \n",
       "1             1             0             0             0          1   \n",
       "2             1             0             0             0          0   \n",
       "3             0             1             0             0          0   \n",
       "4             0             0             0             0          1   \n",
       "\n",
       "   habitat_l  habitat_m  habitat_p  habitat_u  habitat_w  \n",
       "0          0          0          0          1          0  \n",
       "1          0          0          0          0          0  \n",
       "2          0          1          0          0          0  \n",
       "3          0          0          0          1          0  \n",
       "4          0          0          0          0          0  \n",
       "\n",
       "[5 rows x 96 columns]"
      ]
     },
     "execution_count": 7,
     "metadata": {},
     "output_type": "execute_result"
    }
   ],
   "source": [
    "dummy_df.head()"
   ]
  },
  {
   "cell_type": "code",
   "execution_count": 45,
   "id": "346237d3",
   "metadata": {},
   "outputs": [
    {
     "data": {
      "text/plain": [
       "(8124, 96)"
      ]
     },
     "execution_count": 45,
     "metadata": {},
     "output_type": "execute_result"
    }
   ],
   "source": [
    "dummy_df.shape"
   ]
  },
  {
   "cell_type": "markdown",
   "id": "79125f02",
   "metadata": {},
   "source": [
    "However after label encoding, I observe that there are too many features in the dataset and mostly not all of them are going to be helpful to the model. So here I am trying to find out how is the target variable correlated to the rest of the features."
   ]
  },
  {
   "cell_type": "code",
   "execution_count": 8,
   "id": "dbb4d47f",
   "metadata": {},
   "outputs": [],
   "source": [
    "corr= dummy_df.corr()"
   ]
  },
  {
   "cell_type": "code",
   "execution_count": 9,
   "id": "927335f9",
   "metadata": {},
   "outputs": [
    {
     "data": {
      "text/plain": [
       "class_p        1.000000\n",
       "cap-shape_c    0.023007\n",
       "cap-shape_f    0.018526\n",
       "cap-shape_k    0.163565\n",
       "cap-shape_s   -0.060664\n",
       "                 ...   \n",
       "habitat_l      0.155150\n",
       "habitat_m     -0.138627\n",
       "habitat_p      0.323346\n",
       "habitat_u      0.112078\n",
       "habitat_w     -0.150087\n",
       "Name: class_p, Length: 96, dtype: float64"
      ]
     },
     "execution_count": 9,
     "metadata": {},
     "output_type": "execute_result"
    }
   ],
   "source": [
    "corr.iloc[0]"
   ]
  },
  {
   "cell_type": "code",
   "execution_count": 10,
   "id": "49e7abb3",
   "metadata": {},
   "outputs": [],
   "source": [
    "corr = corr['class_p'].abs().sort_values(ascending=False)"
   ]
  },
  {
   "cell_type": "code",
   "execution_count": 11,
   "id": "eef087c0",
   "metadata": {},
   "outputs": [
    {
     "data": {
      "text/plain": [
       "class_p                       1.000000\n",
       "odor_n                        0.785557\n",
       "odor_f                        0.623842\n",
       "stalk-surface-above-ring_k    0.587658\n",
       "stalk-surface-below-ring_k    0.573524\n",
       "                                ...   \n",
       "cap-shape_c                   0.023007\n",
       "cap-surface_g                 0.023007\n",
       "cap-shape_f                   0.018526\n",
       "stalk-root_b                  0.017712\n",
       "stalk-surface-above-ring_y    0.016198\n",
       "Name: class_p, Length: 96, dtype: float64"
      ]
     },
     "execution_count": 11,
     "metadata": {},
     "output_type": "execute_result"
    }
   ],
   "source": [
    "corr"
   ]
  },
  {
   "cell_type": "markdown",
   "id": "c8c3579d",
   "metadata": {},
   "source": [
    "Now i want to pick only the features that have a correlation factor greater than 0.20 "
   ]
  },
  {
   "cell_type": "code",
   "execution_count": 46,
   "id": "68b6af14",
   "metadata": {},
   "outputs": [],
   "source": [
    "numb_cor = corr[corr>.20]"
   ]
  },
  {
   "cell_type": "code",
   "execution_count": 51,
   "id": "2ece84ff",
   "metadata": {},
   "outputs": [
    {
     "data": {
      "text/plain": [
       "35"
      ]
     },
     "execution_count": 51,
     "metadata": {},
     "output_type": "execute_result"
    }
   ],
   "source": [
    "len(numb_cor)"
   ]
  },
  {
   "cell_type": "code",
   "execution_count": 12,
   "id": "7b4c63e8",
   "metadata": {},
   "outputs": [],
   "source": [
    "top_34_features = corr[1:35].index  # Skipping the first one (target itself)"
   ]
  },
  {
   "cell_type": "markdown",
   "id": "6354a322",
   "metadata": {},
   "source": [
    "Subsetting the dataset with only the relevant features I have chosen previously"
   ]
  },
  {
   "cell_type": "code",
   "execution_count": 13,
   "id": "349b8b00",
   "metadata": {},
   "outputs": [],
   "source": [
    "df_with_most_corr = dummy_df[top_34_features]"
   ]
  },
  {
   "cell_type": "code",
   "execution_count": 14,
   "id": "d5e570ad",
   "metadata": {
    "scrolled": true
   },
   "outputs": [
    {
     "data": {
      "text/html": [
       "<div>\n",
       "<style scoped>\n",
       "    .dataframe tbody tr th:only-of-type {\n",
       "        vertical-align: middle;\n",
       "    }\n",
       "\n",
       "    .dataframe tbody tr th {\n",
       "        vertical-align: top;\n",
       "    }\n",
       "\n",
       "    .dataframe thead th {\n",
       "        text-align: right;\n",
       "    }\n",
       "</style>\n",
       "<table border=\"1\" class=\"dataframe\">\n",
       "  <thead>\n",
       "    <tr style=\"text-align: right;\">\n",
       "      <th></th>\n",
       "      <th>odor_n</th>\n",
       "      <th>odor_f</th>\n",
       "      <th>stalk-surface-above-ring_k</th>\n",
       "      <th>stalk-surface-below-ring_k</th>\n",
       "      <th>ring-type_p</th>\n",
       "      <th>gill-size_n</th>\n",
       "      <th>bruises_t</th>\n",
       "      <th>stalk-surface-above-ring_s</th>\n",
       "      <th>spore-print-color_h</th>\n",
       "      <th>ring-type_l</th>\n",
       "      <th>...</th>\n",
       "      <th>stalk-color-above-ring_p</th>\n",
       "      <th>stalk-color-below-ring_p</th>\n",
       "      <th>odor_l</th>\n",
       "      <th>population_n</th>\n",
       "      <th>stalk-root_c</th>\n",
       "      <th>stalk-color-above-ring_w</th>\n",
       "      <th>stalk-color-below-ring_w</th>\n",
       "      <th>ring-number_t</th>\n",
       "      <th>stalk-color-below-ring_n</th>\n",
       "      <th>stalk-root_e</th>\n",
       "    </tr>\n",
       "  </thead>\n",
       "  <tbody>\n",
       "    <tr>\n",
       "      <th>0</th>\n",
       "      <td>0</td>\n",
       "      <td>0</td>\n",
       "      <td>0</td>\n",
       "      <td>0</td>\n",
       "      <td>1</td>\n",
       "      <td>1</td>\n",
       "      <td>1</td>\n",
       "      <td>1</td>\n",
       "      <td>0</td>\n",
       "      <td>0</td>\n",
       "      <td>...</td>\n",
       "      <td>0</td>\n",
       "      <td>0</td>\n",
       "      <td>0</td>\n",
       "      <td>0</td>\n",
       "      <td>0</td>\n",
       "      <td>1</td>\n",
       "      <td>1</td>\n",
       "      <td>0</td>\n",
       "      <td>0</td>\n",
       "      <td>1</td>\n",
       "    </tr>\n",
       "    <tr>\n",
       "      <th>1</th>\n",
       "      <td>0</td>\n",
       "      <td>0</td>\n",
       "      <td>0</td>\n",
       "      <td>0</td>\n",
       "      <td>1</td>\n",
       "      <td>0</td>\n",
       "      <td>1</td>\n",
       "      <td>1</td>\n",
       "      <td>0</td>\n",
       "      <td>0</td>\n",
       "      <td>...</td>\n",
       "      <td>0</td>\n",
       "      <td>0</td>\n",
       "      <td>0</td>\n",
       "      <td>1</td>\n",
       "      <td>1</td>\n",
       "      <td>1</td>\n",
       "      <td>1</td>\n",
       "      <td>0</td>\n",
       "      <td>0</td>\n",
       "      <td>0</td>\n",
       "    </tr>\n",
       "    <tr>\n",
       "      <th>2</th>\n",
       "      <td>0</td>\n",
       "      <td>0</td>\n",
       "      <td>0</td>\n",
       "      <td>0</td>\n",
       "      <td>1</td>\n",
       "      <td>0</td>\n",
       "      <td>1</td>\n",
       "      <td>1</td>\n",
       "      <td>0</td>\n",
       "      <td>0</td>\n",
       "      <td>...</td>\n",
       "      <td>0</td>\n",
       "      <td>0</td>\n",
       "      <td>1</td>\n",
       "      <td>1</td>\n",
       "      <td>1</td>\n",
       "      <td>1</td>\n",
       "      <td>1</td>\n",
       "      <td>0</td>\n",
       "      <td>0</td>\n",
       "      <td>0</td>\n",
       "    </tr>\n",
       "    <tr>\n",
       "      <th>3</th>\n",
       "      <td>0</td>\n",
       "      <td>0</td>\n",
       "      <td>0</td>\n",
       "      <td>0</td>\n",
       "      <td>1</td>\n",
       "      <td>1</td>\n",
       "      <td>1</td>\n",
       "      <td>1</td>\n",
       "      <td>0</td>\n",
       "      <td>0</td>\n",
       "      <td>...</td>\n",
       "      <td>0</td>\n",
       "      <td>0</td>\n",
       "      <td>0</td>\n",
       "      <td>0</td>\n",
       "      <td>0</td>\n",
       "      <td>1</td>\n",
       "      <td>1</td>\n",
       "      <td>0</td>\n",
       "      <td>0</td>\n",
       "      <td>1</td>\n",
       "    </tr>\n",
       "    <tr>\n",
       "      <th>4</th>\n",
       "      <td>1</td>\n",
       "      <td>0</td>\n",
       "      <td>0</td>\n",
       "      <td>0</td>\n",
       "      <td>0</td>\n",
       "      <td>0</td>\n",
       "      <td>0</td>\n",
       "      <td>1</td>\n",
       "      <td>0</td>\n",
       "      <td>0</td>\n",
       "      <td>...</td>\n",
       "      <td>0</td>\n",
       "      <td>0</td>\n",
       "      <td>0</td>\n",
       "      <td>0</td>\n",
       "      <td>0</td>\n",
       "      <td>1</td>\n",
       "      <td>1</td>\n",
       "      <td>0</td>\n",
       "      <td>0</td>\n",
       "      <td>1</td>\n",
       "    </tr>\n",
       "  </tbody>\n",
       "</table>\n",
       "<p>5 rows × 34 columns</p>\n",
       "</div>"
      ],
      "text/plain": [
       "   odor_n  odor_f  stalk-surface-above-ring_k  stalk-surface-below-ring_k  \\\n",
       "0       0       0                           0                           0   \n",
       "1       0       0                           0                           0   \n",
       "2       0       0                           0                           0   \n",
       "3       0       0                           0                           0   \n",
       "4       1       0                           0                           0   \n",
       "\n",
       "   ring-type_p  gill-size_n  bruises_t  stalk-surface-above-ring_s  \\\n",
       "0            1            1          1                           1   \n",
       "1            1            0          1                           1   \n",
       "2            1            0          1                           1   \n",
       "3            1            1          1                           1   \n",
       "4            0            0          0                           1   \n",
       "\n",
       "   spore-print-color_h  ring-type_l  ...  stalk-color-above-ring_p  \\\n",
       "0                    0            0  ...                         0   \n",
       "1                    0            0  ...                         0   \n",
       "2                    0            0  ...                         0   \n",
       "3                    0            0  ...                         0   \n",
       "4                    0            0  ...                         0   \n",
       "\n",
       "   stalk-color-below-ring_p  odor_l  population_n  stalk-root_c  \\\n",
       "0                         0       0             0             0   \n",
       "1                         0       0             1             1   \n",
       "2                         0       1             1             1   \n",
       "3                         0       0             0             0   \n",
       "4                         0       0             0             0   \n",
       "\n",
       "   stalk-color-above-ring_w  stalk-color-below-ring_w  ring-number_t  \\\n",
       "0                         1                         1              0   \n",
       "1                         1                         1              0   \n",
       "2                         1                         1              0   \n",
       "3                         1                         1              0   \n",
       "4                         1                         1              0   \n",
       "\n",
       "   stalk-color-below-ring_n  stalk-root_e  \n",
       "0                         0             1  \n",
       "1                         0             0  \n",
       "2                         0             0  \n",
       "3                         0             1  \n",
       "4                         0             1  \n",
       "\n",
       "[5 rows x 34 columns]"
      ]
     },
     "execution_count": 14,
     "metadata": {},
     "output_type": "execute_result"
    }
   ],
   "source": [
    "df_with_most_corr.head()"
   ]
  },
  {
   "cell_type": "code",
   "execution_count": 15,
   "id": "14fb8840",
   "metadata": {},
   "outputs": [],
   "source": [
    "x = df_with_most_corr\n",
    "y = dummy_df['class_p']"
   ]
  },
  {
   "cell_type": "markdown",
   "id": "91ccc1af",
   "metadata": {},
   "source": [
    "Splitting the Data in Train Test Split"
   ]
  },
  {
   "cell_type": "code",
   "execution_count": 17,
   "id": "f8e36dba",
   "metadata": {},
   "outputs": [],
   "source": [
    "x_train,x_test,y_train,y_test = train_test_split(x,y,test_size=0.2,random_state=42)"
   ]
  },
  {
   "cell_type": "code",
   "execution_count": 18,
   "id": "bcd98d0a",
   "metadata": {},
   "outputs": [],
   "source": [
    "lr = LogisticRegression()"
   ]
  },
  {
   "cell_type": "code",
   "execution_count": 19,
   "id": "e5080bb9",
   "metadata": {},
   "outputs": [
    {
     "data": {
      "text/html": [
       "<style>#sk-container-id-1 {color: black;}#sk-container-id-1 pre{padding: 0;}#sk-container-id-1 div.sk-toggleable {background-color: white;}#sk-container-id-1 label.sk-toggleable__label {cursor: pointer;display: block;width: 100%;margin-bottom: 0;padding: 0.3em;box-sizing: border-box;text-align: center;}#sk-container-id-1 label.sk-toggleable__label-arrow:before {content: \"▸\";float: left;margin-right: 0.25em;color: #696969;}#sk-container-id-1 label.sk-toggleable__label-arrow:hover:before {color: black;}#sk-container-id-1 div.sk-estimator:hover label.sk-toggleable__label-arrow:before {color: black;}#sk-container-id-1 div.sk-toggleable__content {max-height: 0;max-width: 0;overflow: hidden;text-align: left;background-color: #f0f8ff;}#sk-container-id-1 div.sk-toggleable__content pre {margin: 0.2em;color: black;border-radius: 0.25em;background-color: #f0f8ff;}#sk-container-id-1 input.sk-toggleable__control:checked~div.sk-toggleable__content {max-height: 200px;max-width: 100%;overflow: auto;}#sk-container-id-1 input.sk-toggleable__control:checked~label.sk-toggleable__label-arrow:before {content: \"▾\";}#sk-container-id-1 div.sk-estimator input.sk-toggleable__control:checked~label.sk-toggleable__label {background-color: #d4ebff;}#sk-container-id-1 div.sk-label input.sk-toggleable__control:checked~label.sk-toggleable__label {background-color: #d4ebff;}#sk-container-id-1 input.sk-hidden--visually {border: 0;clip: rect(1px 1px 1px 1px);clip: rect(1px, 1px, 1px, 1px);height: 1px;margin: -1px;overflow: hidden;padding: 0;position: absolute;width: 1px;}#sk-container-id-1 div.sk-estimator {font-family: monospace;background-color: #f0f8ff;border: 1px dotted black;border-radius: 0.25em;box-sizing: border-box;margin-bottom: 0.5em;}#sk-container-id-1 div.sk-estimator:hover {background-color: #d4ebff;}#sk-container-id-1 div.sk-parallel-item::after {content: \"\";width: 100%;border-bottom: 1px solid gray;flex-grow: 1;}#sk-container-id-1 div.sk-label:hover label.sk-toggleable__label {background-color: #d4ebff;}#sk-container-id-1 div.sk-serial::before {content: \"\";position: absolute;border-left: 1px solid gray;box-sizing: border-box;top: 0;bottom: 0;left: 50%;z-index: 0;}#sk-container-id-1 div.sk-serial {display: flex;flex-direction: column;align-items: center;background-color: white;padding-right: 0.2em;padding-left: 0.2em;position: relative;}#sk-container-id-1 div.sk-item {position: relative;z-index: 1;}#sk-container-id-1 div.sk-parallel {display: flex;align-items: stretch;justify-content: center;background-color: white;position: relative;}#sk-container-id-1 div.sk-item::before, #sk-container-id-1 div.sk-parallel-item::before {content: \"\";position: absolute;border-left: 1px solid gray;box-sizing: border-box;top: 0;bottom: 0;left: 50%;z-index: -1;}#sk-container-id-1 div.sk-parallel-item {display: flex;flex-direction: column;z-index: 1;position: relative;background-color: white;}#sk-container-id-1 div.sk-parallel-item:first-child::after {align-self: flex-end;width: 50%;}#sk-container-id-1 div.sk-parallel-item:last-child::after {align-self: flex-start;width: 50%;}#sk-container-id-1 div.sk-parallel-item:only-child::after {width: 0;}#sk-container-id-1 div.sk-dashed-wrapped {border: 1px dashed gray;margin: 0 0.4em 0.5em 0.4em;box-sizing: border-box;padding-bottom: 0.4em;background-color: white;}#sk-container-id-1 div.sk-label label {font-family: monospace;font-weight: bold;display: inline-block;line-height: 1.2em;}#sk-container-id-1 div.sk-label-container {text-align: center;}#sk-container-id-1 div.sk-container {/* jupyter's `normalize.less` sets `[hidden] { display: none; }` but bootstrap.min.css set `[hidden] { display: none !important; }` so we also need the `!important` here to be able to override the default hidden behavior on the sphinx rendered scikit-learn.org. See: https://github.com/scikit-learn/scikit-learn/issues/21755 */display: inline-block !important;position: relative;}#sk-container-id-1 div.sk-text-repr-fallback {display: none;}</style><div id=\"sk-container-id-1\" class=\"sk-top-container\"><div class=\"sk-text-repr-fallback\"><pre>LogisticRegression()</pre><b>In a Jupyter environment, please rerun this cell to show the HTML representation or trust the notebook. <br />On GitHub, the HTML representation is unable to render, please try loading this page with nbviewer.org.</b></div><div class=\"sk-container\" hidden><div class=\"sk-item\"><div class=\"sk-estimator sk-toggleable\"><input class=\"sk-toggleable__control sk-hidden--visually\" id=\"sk-estimator-id-1\" type=\"checkbox\" checked><label for=\"sk-estimator-id-1\" class=\"sk-toggleable__label sk-toggleable__label-arrow\">LogisticRegression</label><div class=\"sk-toggleable__content\"><pre>LogisticRegression()</pre></div></div></div></div></div>"
      ],
      "text/plain": [
       "LogisticRegression()"
      ]
     },
     "execution_count": 19,
     "metadata": {},
     "output_type": "execute_result"
    }
   ],
   "source": [
    "lr.fit(x_train,y_train)\n",
    "            "
   ]
  },
  {
   "cell_type": "code",
   "execution_count": 20,
   "id": "dda2ba7e",
   "metadata": {},
   "outputs": [
    {
     "data": {
      "text/plain": [
       "0.9926153846153846"
      ]
     },
     "execution_count": 20,
     "metadata": {},
     "output_type": "execute_result"
    }
   ],
   "source": [
    "lr.score(x_test,y_test)"
   ]
  },
  {
   "cell_type": "code",
   "execution_count": 31,
   "id": "68caee4a",
   "metadata": {},
   "outputs": [],
   "source": [
    "y_pred = lr.predict(x_test)"
   ]
  },
  {
   "cell_type": "markdown",
   "id": "cc8e6f60",
   "metadata": {},
   "source": [
    "The Model has achieved an accuracy of 99.26 %, But since our aim is to classify whether or not a kind of mushroom is safe to consume or not, we need to test how many False Positives does our model give.\n",
    "For that I will plot a Confusion Matrix "
   ]
  },
  {
   "cell_type": "code",
   "execution_count": 40,
   "id": "3fd25a21",
   "metadata": {},
   "outputs": [],
   "source": [
    "cm = confusion_matrix(y_test,y_pred)"
   ]
  },
  {
   "cell_type": "code",
   "execution_count": 44,
   "id": "7b970bc0",
   "metadata": {},
   "outputs": [
    {
     "data": {
      "text/plain": [
       "<sklearn.metrics._plot.confusion_matrix.ConfusionMatrixDisplay at 0x1f3c81e1150>"
      ]
     },
     "execution_count": 44,
     "metadata": {},
     "output_type": "execute_result"
    },
    {
     "data": {
      "image/png": "[encoded data removed]",
      "text/plain": [
       "<Figure size 640x480 with 2 Axes>"
      ]
     },
     "metadata": {},
     "output_type": "display_data"
    }
   ],
   "source": [
    "disp = ConfusionMatrixDisplay(confusion_matrix=cm, display_labels=['Edible', 'Poisonous'])\n",
    "disp.plot(cmap=plt.cm.Blues)\n"
   ]
  },
  {
   "cell_type": "markdown",
   "id": "fa50ad83",
   "metadata": {},
   "source": [
    "From the table we can claim that if the model predicted that a certain mushroom is edible, there is 0.002 % chance of that mushroom being poisonous."
   ]
  },
  {
   "cell_type": "code",
   "execution_count": null,
   "id": "12ab6da8",
   "metadata": {},
   "outputs": [],
   "source": []
  },
  {
   "cell_type": "code",
   "execution_count": null,
   "id": "6bcffdfb",
   "metadata": {},
   "outputs": [],
   "source": []
  },
  {
   "cell_type": "code",
   "execution_count": null,
   "id": "70ba6383",
   "metadata": {},
   "outputs": [],
   "source": []
  },
  {
   "cell_type": "code",
   "execution_count": null,
   "id": "d9ec884c",
   "metadata": {},
   "outputs": [],
   "source": []
  },
  {
   "cell_type": "code",
   "execution_count": null,
   "id": "232f9197",
   "metadata": {},
   "outputs": [],
   "source": []
  },
  {
   "cell_type": "code",
   "execution_count": null,
   "id": "3004cddb",
   "metadata": {},
   "outputs": [],
   "source": []
  },
  {
   "cell_type": "code",
   "execution_count": null,
   "id": "72a8cfc0",
   "metadata": {},
   "outputs": [],
   "source": []
  },
  {
   "cell_type": "code",
   "execution_count": null,
   "id": "c43561d0",
   "metadata": {},
   "outputs": [],
   "source": []
  },
  {
   "cell_type": "code",
   "execution_count": null,
   "id": "49193700",
   "metadata": {},
   "outputs": [],
   "source": []
  },
  {
   "cell_type": "code",
   "execution_count": null,
   "id": "669270d0",
   "metadata": {},
   "outputs": [],
   "source": []
  },
  {
   "cell_type": "code",
   "execution_count": null,
   "id": "82151233",
   "metadata": {},
   "outputs": [],
   "source": []
  },
  {
   "cell_type": "code",
   "execution_count": null,
   "id": "6b3008dc",
   "metadata": {},
   "outputs": [],
   "source": []
  },
  {
   "cell_type": "code",
   "execution_count": null,
   "id": "c0256f7b",
   "metadata": {},
   "outputs": [],
   "source": []
  }
 ],
 "metadata": {
  "kernelspec": {
   "display_name": "Python 3 (ipykernel)",
   "language": "python",
   "name": "python3"
  },
  "language_info": {
   "codemirror_mode": {
    "name": "ipython",
    "version": 3
   },
   "file_extension": ".py",
   "mimetype": "text/x-python",
   "name": "python",
   "nbconvert_exporter": "python",
   "pygments_lexer": "ipython3",
   "version": "3.11.4"
  }
 },
 "nbformat": 4,
 "nbformat_minor": 5
}
